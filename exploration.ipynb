{
 "cells": [
  {
   "cell_type": "markdown",
   "id": "88a8f294",
   "metadata": {},
   "source": [
    "# Exploration of LLM for election"
   ]
  },
  {
   "cell_type": "code",
   "execution_count": 33,
   "id": "1f6a8900",
   "metadata": {},
   "outputs": [],
   "source": [
    "import pdfplumber\n",
    "from langchain.text_splitter import RecursiveCharacterTextSplitter\n",
    "from sentence_transformers import SentenceTransformer\n",
    "from tqdm import tqdm\n",
    "import faiss\n",
    "import numpy as np\n",
    "import ollama"
   ]
  },
  {
   "cell_type": "markdown",
   "id": "7b0e04fe",
   "metadata": {},
   "source": [
    "## Open documents"
   ]
  },
  {
   "cell_type": "code",
   "execution_count": 2,
   "id": "2b74a216",
   "metadata": {},
   "outputs": [],
   "source": [
    "def extract_all_text(pdf_path):\n",
    "    # Open the PDF file with a 'with' statement\n",
    "    with pdfplumber.open(pdf_path) as pdf:\n",
    "        full_text = \"\"\n",
    "        # Loop through each page in the PDF\n",
    "        for page in pdf.pages:\n",
    "            # Extract the text from the current page\n",
    "            text = page.extract_text()\n",
    "            if text:\n",
    "                full_text += text + \"\\n\"\n",
    "    return full_text"
   ]
  },
  {
   "cell_type": "code",
   "execution_count": 3,
   "id": "96925e60",
   "metadata": {},
   "outputs": [],
   "source": [
    "def extract_text_with_pdfplumber(pdf_path, txt_path):\n",
    "    with pdfplumber.open(pdf_path) as pdf:\n",
    "        with open(txt_path, \"w\", encoding=\"utf-8\") as f:\n",
    "            for page in pdf.pages:\n",
    "                text = page.extract_text()\n",
    "                if text:\n",
    "                    f.write(text + '\\n')"
   ]
  },
  {
   "cell_type": "code",
   "execution_count": 4,
   "id": "9b8e969e",
   "metadata": {},
   "outputs": [],
   "source": [
    "text_vvd = extract_all_text(r\"C:\\Users\\Sten\\Documents\\projects\\electionLLM\\programma\\Verkiezingsprogramma-TK-VVD2025.pdf\")"
   ]
  },
  {
   "cell_type": "markdown",
   "id": "a998aa2e",
   "metadata": {},
   "source": [
    "## Create chunks"
   ]
  },
  {
   "cell_type": "code",
   "execution_count": 5,
   "id": "99d4f365",
   "metadata": {},
   "outputs": [],
   "source": [
    "splitter = RecursiveCharacterTextSplitter(\n",
    "    chunk_size=500,       # maximaal 500 tokens per chunk\n",
    "    chunk_overlap=100,    # overlap tussen chunks om context te behouden\n",
    "    separators=[\"\\n\\n\", \"\\n\", \".\", \" \"]  # logische splitsingen\n",
    ")"
   ]
  },
  {
   "cell_type": "code",
   "execution_count": 8,
   "id": "1ab5bc1b",
   "metadata": {},
   "outputs": [
    {
     "name": "stdout",
     "output_type": "stream",
     "text": [
      "Totaal aantal chunks: 729\n",
      "Voorbeeld chunk:\n",
      "ter wereld gemaakt. Om die vrijheid en veiligheid te behouden, is actieve bescherming van\n",
      "de liberale democratie en de democratische rechtsstaat noodzakelijk. De liberale waarden\n",
      "die daaraan ten grondslag liggen, zijn voor ons dan ook niet onderhandelbaar. Vrijheid,\n",
      "verantwoordelijkheid, verdraagzaamheid, gelijkwaardigheid en sociale rechtvaardigheid vormen\n",
      "de rotsvaste bouwstenen van onze maatschappij. Deze liberale waarden zijn niet alleen in het\n"
     ]
    }
   ],
   "source": [
    "chunks = splitter.split_text(text_vvd)\n",
    "\n",
    "print(f\"Totaal aantal chunks: {len(chunks)}\")\n",
    "print(\"Voorbeeld chunk:\")\n",
    "print(chunks[1])"
   ]
  },
  {
   "cell_type": "markdown",
   "id": "4bff6051",
   "metadata": {},
   "source": [
    "## Create embedding"
   ]
  },
  {
   "cell_type": "code",
   "execution_count": 19,
   "id": "8c4138bc",
   "metadata": {},
   "outputs": [],
   "source": [
    "embedding_model = SentenceTransformer('paraphrase-multilingual-MiniLM-L12-v2')\n",
    "#embedding_model = SentenceTransformer(\"intfloat/e5-base\")"
   ]
  },
  {
   "cell_type": "code",
   "execution_count": null,
   "id": "4dc1b267",
   "metadata": {},
   "outputs": [],
   "source": [
    "embeddings = []\n",
    "\n",
    "for doc in tqdm(chunks, desc=\"Embedding chunks\"):\n",
    "    emb = embedding_model.encode(doc)\n",
    "    embeddings.append(emb)"
   ]
  },
  {
   "cell_type": "code",
   "execution_count": 20,
   "id": "0b5b03f9",
   "metadata": {},
   "outputs": [
    {
     "name": "stdout",
     "output_type": "stream",
     "text": [
      "Vorm van embedding matrix: (729, 384)\n"
     ]
    }
   ],
   "source": [
    "chunk_embeddings = embedding_model.encode(chunks, convert_to_numpy=True)\n",
    "\n",
    "print(f\"Vorm van embedding matrix: {chunk_embeddings.shape}\")"
   ]
  },
  {
   "cell_type": "code",
   "execution_count": 25,
   "id": "940e2d65",
   "metadata": {},
   "outputs": [
    {
     "name": "stdout",
     "output_type": "stream",
     "text": [
      "Aantal vectoren in index: 729\n"
     ]
    }
   ],
   "source": [
    "index = faiss.IndexFlatL2(chunk_embeddings.shape[1])\n",
    "index.add(chunk_embeddings)\n",
    "print(f\"Aantal vectoren in index: {index.ntotal}\")"
   ]
  },
  {
   "cell_type": "markdown",
   "id": "4525b922",
   "metadata": {},
   "source": [
    "## Create LLM output"
   ]
  },
  {
   "cell_type": "code",
   "execution_count": 53,
   "id": "47e60cec",
   "metadata": {},
   "outputs": [
    {
     "name": "stdout",
     "output_type": "stream",
     "text": [
      " De VVD vindt dat er rechtsbijstand aan asielzoekers wordt gegeven en dat de migratieketen versterkt moet worden. Ze stelt dat het IND, COA en de Dienst Terugkeer en Vertrek extra capaciteit krijgen om zaken snel af te handelen, zodat duidelijkheid komt over wie hier wel en wie hier niet mag blijven. Deze maatregelen zijn bedoeld om een humane opvang voor echte vluchtelingen mogelijk te maken, maar niet ten koste van eigen inwoners."
     ]
    }
   ],
   "source": [
    "question = \"wat vind de vvd van immigratie\"\n",
    "question_embedding = embedding_model.encode(question, convert_to_numpy=True)\n",
    "question_embedding = np.array(question_embedding).reshape(1, -1)\n",
    "\n",
    "D, I = index.search(question_embedding, k=2)\n",
    "\n",
    "retrieved_context = \"\\n\\n\".join([chunks[idx] for idx in I[0]])\n",
    "\n",
    "prompt = f\"\"\"\n",
    "Beantwoord de vraag op basis van de onderstaande fragmenten uit partijprogramma's.\n",
    "Geef altijd aan welke partij iets zegt en verwijs letterlijk naar het fragment met \"\".\n",
    "\n",
    "Vraag: {question}\n",
    "\n",
    "Fragmenten:\n",
    "{retrieved_context}\n",
    "\n",
    "Antwoord:\n",
    "\"\"\"\n",
    "\n",
    "stream = ollama.chat(model='mistral', messages=[\n",
    "  {\n",
    "    'role': 'user',\n",
    "    'content': prompt,\n",
    "  },\n",
    "], stream=True)\n",
    "\n",
    "for piece in stream:\n",
    "    print(piece['message']['content'], end='', flush=True)\n"
   ]
  },
  {
   "cell_type": "code",
   "execution_count": 54,
   "id": "908d6fcf",
   "metadata": {},
   "outputs": [
    {
     "data": {
      "text/plain": [
       "'aan onze eigen veiligheid, vrijheid en economische kracht. Dit geldt dus ook voor de\\nmiddelen die we inzetten voor ontwikkelingssamenwerking. Migratiebeheersing is ook\\ngeopolitiek, en vormt daarom een cruciaal onderdeel van dit beleid. Landen die weigeren om\\nuitgeprocedeerde asielzoekers terug te nemen, kunnen niet langer op onze hulp rekenen.\\nOnze steun is voorwaardelijk en dient altijd het Nederlands belang.\\n▶ Ontwikkelingssamenwerking meer in EU-verband: Als VVD plaatsen we al jaren\\n\\nrechtsbijstand voor asielzoekers.\\n▶ De migratieketen wordt versterkt: De IND krijgt voldoende capaciteit om zaken snel af\\nte handelen, zodat er snel duidelijkheid komt over wie hier wel en wie hier niet mag blijven.\\nHetzelfde geldt voor het COA. De Dienst Terugkeer en Vertrek krijgt hierbij extra aandacht,\\nwaardoor het terugkeerbeleid kan worden geïntensiveerd.\\nHumane opvang voor echte vluchtelingen, maar\\nniet ten koste van eigen inwoners'"
      ]
     },
     "execution_count": 54,
     "metadata": {},
     "output_type": "execute_result"
    }
   ],
   "source": [
    "retrieved_context"
   ]
  }
 ],
 "metadata": {
  "kernelspec": {
   "display_name": ".venv",
   "language": "python",
   "name": "python3"
  },
  "language_info": {
   "codemirror_mode": {
    "name": "ipython",
    "version": 3
   },
   "file_extension": ".py",
   "mimetype": "text/x-python",
   "name": "python",
   "nbconvert_exporter": "python",
   "pygments_lexer": "ipython3",
   "version": "3.13.5"
  }
 },
 "nbformat": 4,
 "nbformat_minor": 5
}

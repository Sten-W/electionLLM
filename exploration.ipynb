{
 "cells": [
  {
   "cell_type": "markdown",
   "id": "88a8f294",
   "metadata": {},
   "source": [
    "# Exploration of LLM for election"
   ]
  }
 ],
 "metadata": {
  "language_info": {
   "name": "python"
  }
 },
 "nbformat": 4,
 "nbformat_minor": 5
}

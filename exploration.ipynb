{
 "cells": [
  {
   "cell_type": "markdown",
   "id": "88a8f294",
   "metadata": {},
   "source": [
    "# Exploration of LLM for election"
   ]
  },
  {
   "cell_type": "markdown",
   "id": "7b0e04fe",
   "metadata": {},
   "source": [
    "test\n"
   ]
  }
 ],
 "metadata": {
  "language_info": {
   "name": "python"
  }
 },
 "nbformat": 4,
 "nbformat_minor": 5
}
